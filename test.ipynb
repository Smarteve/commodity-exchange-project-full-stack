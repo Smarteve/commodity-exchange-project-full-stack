{
 "cells": [
  {
   "cell_type": "code",
   "execution_count": 1,
   "metadata": {},
   "outputs": [],
   "source": [
    "import db_logic\n",
    "import helper"
   ]
  },
  {
   "cell_type": "code",
   "execution_count": 2,
   "metadata": {},
   "outputs": [
    {
     "data": {
      "text/plain": [
       "['LME', 'TOMO']"
      ]
     },
     "execution_count": 2,
     "metadata": {},
     "output_type": "execute_result"
    }
   ],
   "source": [
    "helper.get_exchange_list()"
   ]
  },
  {
   "cell_type": "code",
   "execution_count": 3,
   "metadata": {},
   "outputs": [
    {
     "data": {
      "text/plain": [
       "[{'unit': 'kilo',\n",
       "  'exchange_name': 'LME',\n",
       "  'price': 11,\n",
       "  'time': '2023-01-01',\n",
       "  'currency_sign': '£'},\n",
       " {'unit': 'kilo',\n",
       "  'exchange_name': 'TOMO',\n",
       "  'price': 12,\n",
       "  'time': '2023-12-12',\n",
       "  'currency_sign': '¥'}]"
      ]
     },
     "execution_count": 3,
     "metadata": {},
     "output_type": "execute_result"
    }
   ],
   "source": [
    "[dict(result) for result in db_logic.view_commodity(\"gold\")]"
   ]
  },
  {
   "cell_type": "code",
   "execution_count": 4,
   "metadata": {},
   "outputs": [
    {
     "ename": "SyntaxError",
     "evalue": "expected ':' (33601004.py, line 7)",
     "output_type": "error",
     "traceback": [
      "\u001b[0;36m  Cell \u001b[0;32mIn[4], line 7\u001b[0;36m\u001b[0m\n\u001b[0;31m    )\u001b[0m\n\u001b[0m      ^\u001b[0m\n\u001b[0;31mSyntaxError\u001b[0m\u001b[0;31m:\u001b[0m expected ':'\n"
     ]
    }
   ],
   "source": [
    "def add_currency(\n",
    "    name: str,\n",
    "    type: str,\n",
    "    tenor: str,\n",
    "    settlement_dates: str,\n",
    "    exchange_price_time_pairs: list[tuple],\n",
    ") "
   ]
  },
  {
   "cell_type": "code",
   "execution_count": null,
   "metadata": {},
   "outputs": [],
   "source": []
  },
  {
   "cell_type": "code",
   "execution_count": null,
   "metadata": {},
   "outputs": [],
   "source": [
    "db_logic.add_currency(\"us/rmb swap\",\"swap\",\"1 year\",\"2024-01-01,2024-01-02\",[(\"LME\",11,\"2023-10-10\"),(\"TOMO\",150,\"2023-02-02\")])"
   ]
  },
  {
   "cell_type": "code",
   "execution_count": null,
   "metadata": {},
   "outputs": [
    {
     "data": {
      "text/plain": [
       "[{'currency_type': 'swap',\n",
       "  'tenor': '1 year',\n",
       "  'settlement_dates': '2024-01-01,2024-01-02',\n",
       "  'exchange_name': 'LME',\n",
       "  'price': 11,\n",
       "  'time': '2023-10-10'},\n",
       " {'currency_type': 'swap',\n",
       "  'tenor': '1 year',\n",
       "  'settlement_dates': '2024-01-01,2024-01-02',\n",
       "  'exchange_name': 'TOMO',\n",
       "  'price': 150,\n",
       "  'time': '2023-02-02'}]"
      ]
     },
     "execution_count": 4,
     "metadata": {},
     "output_type": "execute_result"
    }
   ],
   "source": [
    "[dict(result) for result in db_logic.view_currency(\"us/rmb swap\")]\n",
    "\n",
    "\n",
    "\n",
    "\n",
    "\n",
    "\n",
    "\n",
    "\n",
    "\n",
    "\n",
    "\n",
    "\n"
   ]
  },
  {
   "cell_type": "code",
   "execution_count": 5,
   "metadata": {},
   "outputs": [
    {
     "data": {
      "text/plain": [
       "defaultdict(list, {'commodity': 'gold', 'currency': 'us/rmb swap'})"
      ]
     },
     "execution_count": 5,
     "metadata": {},
     "output_type": "execute_result"
    }
   ],
   "source": [
    "helper.get_security_traded_in_exchange(\"LME\")"
   ]
  }
 ],
 "metadata": {
  "kernelspec": {
   "display_name": "Python 3",
   "language": "python",
   "name": "python3"
  },
  "language_info": {
   "codemirror_mode": {
    "name": "ipython",
    "version": 3
   },
   "file_extension": ".py",
   "mimetype": "text/x-python",
   "name": "python",
   "nbconvert_exporter": "python",
   "pygments_lexer": "ipython3",
   "version": "3.10.13"
  }
 },
 "nbformat": 4,
 "nbformat_minor": 2
}
